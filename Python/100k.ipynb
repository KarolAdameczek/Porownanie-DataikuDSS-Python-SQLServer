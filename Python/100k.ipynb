{
 "cells": [
  {
   "cell_type": "code",
   "execution_count": 1,
   "metadata": {},
   "outputs": [],
   "source": [
    "import pandas as pd\n",
    "import time"
   ]
  },
  {
   "cell_type": "markdown",
   "metadata": {},
   "source": [
    "# Dataset 100k"
   ]
  },
  {
   "cell_type": "code",
   "execution_count": 9,
   "metadata": {},
   "outputs": [
    {
     "name": "stdout",
     "output_type": "stream",
     "text": [
      "Delta time:  0.2698018550872803\n"
     ]
    }
   ],
   "source": [
    "# Filter High > 5000\n",
    "\n",
    "start = time.time()\n",
    "\n",
    "indexProcessed = pd.read_csv('Datasets/100k/indexProcessed.csv')\n",
    "\n",
    "indexProcessed = indexProcessed[indexProcessed.High > 5000]\n",
    "\n",
    "indexProcessed.to_csv('Datasets/100k/indexProcessed_temp.csv', index=False)\n",
    "\n",
    "end = time.time() \n",
    "\n",
    "print(\"Delta time: \", end - start)"
   ]
  },
  {
   "cell_type": "code",
   "execution_count": 17,
   "metadata": {},
   "outputs": [
    {
     "name": "stdout",
     "output_type": "stream",
     "text": [
      "Delta time:  0.126845121383667\n"
     ]
    }
   ],
   "source": [
    "# Filter by string\tIndex = NYA\n",
    "start = time.time()\n",
    "\n",
    "indexProcessed = pd.read_csv('Datasets/100k/indexProcessed.csv')\n",
    "\n",
    "indexProcessed = indexProcessed[indexProcessed.Index == 'NYA']\n",
    "\n",
    "indexProcessed.to_csv('Datasets/100k/indexProcessed_temp.csv', index=False)\n",
    "\n",
    "end = time.time() \n",
    "\n",
    "print(\"Delta time: \", end - start)"
   ]
  },
  {
   "cell_type": "code",
   "execution_count": 21,
   "metadata": {},
   "outputs": [
    {
     "name": "stdout",
     "output_type": "stream",
     "text": [
      "Delta time:  0.07354569435119629\n"
     ]
    }
   ],
   "source": [
    "# Distinct\tcolumn Index\n",
    "start = time.time()\n",
    "\n",
    "indexProcessed = pd.read_csv('Datasets/100k/indexProcessed.csv')\n",
    "\n",
    "indexProcessed = indexProcessed['Index'].drop_duplicates()\n",
    "\n",
    "indexProcessed.to_csv('Datasets/100k/indexProcessed_temp.csv', index=False)\n",
    "\n",
    "end = time.time() \n",
    "\n",
    "print(\"Delta time: \", end - start)"
   ]
  },
  {
   "cell_type": "code",
   "execution_count": 54,
   "metadata": {},
   "outputs": [
    {
     "name": "stdout",
     "output_type": "stream",
     "text": [
      "Delta time:  0.4385957717895508\n"
     ]
    }
   ],
   "source": [
    "# Sort\tby High asc\n",
    "start = time.time()\n",
    "\n",
    "indexProcessed = pd.read_csv('Datasets/100k/indexProcessed.csv')\n",
    "\n",
    "indexProcessed = indexProcessed.sort_values(by=['High'], ascending=True)\n",
    "\n",
    "indexProcessed.to_csv('Datasets/100k/indexProcessed_sorted.csv', index=False)\n",
    "\n",
    "end = time.time() \n",
    "\n",
    "print(\"Delta time: \", end - start)"
   ]
  },
  {
   "cell_type": "code",
   "execution_count": 6,
   "metadata": {},
   "outputs": [
    {
     "name": "stdout",
     "output_type": "stream",
     "text": [
      "Delta time:  0.8085227012634277\n"
     ]
    }
   ],
   "source": [
    "# Union\twith sorted\n",
    "start = time.time()\n",
    "\n",
    "indexProcessed = pd.read_csv('Datasets/100k/indexProcessed.csv')\n",
    "indexProcessed_sorted = pd.read_csv('Datasets/100k/indexProcessed_sorted.csv')\n",
    "\n",
    "indexProcessed = pd.concat([indexProcessed, indexProcessed_sorted])\n",
    "\n",
    "indexProcessed.to_csv('Datasets/100k/indexProcessed_temp.csv', index=False)\n",
    "\n",
    "end = time.time() \n",
    "\n",
    "print(\"Delta time: \", end - start)"
   ]
  },
  {
   "cell_type": "code",
   "execution_count": 40,
   "metadata": {},
   "outputs": [
    {
     "name": "stdout",
     "output_type": "stream",
     "text": [
      "Delta time:  0.06675386428833008\n"
     ]
    }
   ],
   "source": [
    "# Group By\tby Index Open min max avg sum count\n",
    "start = time.time()\n",
    "\n",
    "indexProcessed = pd.read_csv('Datasets/100k/indexProcessed.csv')\n",
    "\n",
    "indexProcessed = indexProcessed.groupby('Index', as_index=False).agg({'Open': ['min', 'max', 'mean', 'sum', 'count']})\n",
    "\n",
    "indexProcessed.columns = ['Index', 'Open_min', 'Open_max', 'Open_avg', 'Open_sum', 'Count']\n",
    "\n",
    "indexProcessed.to_csv('Datasets/100k/indexProcessed_temp.csv', index=False)\n",
    "\n",
    "end = time.time() \n",
    "\n",
    "print(\"Delta time: \", end - start)"
   ]
  },
  {
   "cell_type": "code",
   "execution_count": 45,
   "metadata": {},
   "outputs": [
    {
     "name": "stdout",
     "output_type": "stream",
     "text": [
      "Delta time:  0.4653129577636719\n"
     ]
    }
   ],
   "source": [
    "# Left Join\twith indexData (take everything)\n",
    "start = time.time()\n",
    "\n",
    "indexProcessed = pd.read_csv('Datasets/100k/indexProcessed.csv')\n",
    "indexData = pd.read_csv('Datasets/100k/indexData.csv')\n",
    "\n",
    "indexProcessed = pd.merge(indexProcessed, indexData, on='Index', how='left')\n",
    "\n",
    "indexProcessed.to_csv('Datasets/100k/indexProcessed_temp.csv', index=False)\n",
    "\n",
    "end = time.time() \n",
    "\n",
    "print(\"Delta time: \", end - start)"
   ]
  },
  {
   "cell_type": "code",
   "execution_count": 49,
   "metadata": {},
   "outputs": [
    {
     "name": "stdout",
     "output_type": "stream",
     "text": [
      "Delta time:  0.25682544708251953\n"
     ]
    }
   ],
   "source": [
    "# Inner Join\twith index list\n",
    "start = time.time()\n",
    "\n",
    "indexProcessed = pd.read_csv('Datasets/100k/indexProcessed.csv')\n",
    "indexList = pd.read_csv('Datasets/100k/indexList.csv')\n",
    "\n",
    "indexProcessed = pd.merge(indexProcessed, indexList, on='Index', how='inner')\n",
    "\n",
    "indexProcessed.to_csv('Datasets/100k/indexProcessed_temp.csv', index=False)\n",
    "\n",
    "end = time.time() \n",
    "\n",
    "print(\"Delta time: \", end - start) "
   ]
  },
  {
   "cell_type": "code",
   "execution_count": 59,
   "metadata": {},
   "outputs": [
    {
     "name": "stdout",
     "output_type": "stream",
     "text": [
      "Delta time:  0.6512303352355957\n"
     ]
    }
   ],
   "source": [
    "# Math\tHigh +-/* Low\n",
    "start = time.time()\n",
    "\n",
    "indexProcessed = pd.read_csv('Datasets/100k/indexProcessed.csv')\n",
    "indexList = pd.read_csv('Datasets/100k/indexList.csv')\n",
    "\n",
    "indexProcessed['Calculation1'] = indexProcessed['High'] + indexProcessed['Low']\n",
    "indexProcessed['Calculation2'] = indexProcessed['High'] - indexProcessed['Low']\n",
    "indexProcessed['Calculation3'] = indexProcessed['High'] * indexProcessed['Low']\n",
    "indexProcessed['Calculation4'] = indexProcessed['High'] / indexProcessed['Low']\n",
    "\n",
    "indexProcessed.to_csv('Datasets/100k/indexProcessed_temp.csv', index=False)\n",
    "\n",
    "end = time.time() \n",
    "\n",
    "print(\"Delta time: \", end - start) "
   ]
  },
  {
   "cell_type": "markdown",
   "metadata": {},
   "source": [
    "# Pineline"
   ]
  },
  {
   "cell_type": "code",
   "execution_count": 64,
   "metadata": {},
   "outputs": [
    {
     "name": "stdout",
     "output_type": "stream",
     "text": [
      "Delta time:  0.3370852470397949\n"
     ]
    }
   ],
   "source": [
    "start = time.time()\n",
    "\n",
    "indexProcessed = pd.read_csv('Datasets/100k/indexProcessed.csv')\n",
    "indexList = pd.read_csv('Datasets/100k/indexList.csv')\n",
    "indexData = pd.read_csv('Datasets/100k/indexData.csv')\n",
    "\n",
    "# inner join\n",
    "indexProcessed = pd.merge(indexProcessed, indexList, on='Index', how='inner')\n",
    "\n",
    "# Filter out volume 0\n",
    "indexProcessed = indexProcessed[indexProcessed.Volume != 0]\n",
    "\n",
    "# calculate MarketcapUSD\n",
    "indexProcessed['MarketcapUSD'] = indexProcessed['Volume'] * indexProcessed['CloseUSD']\n",
    "\n",
    "# calculate MarketcapLocalCurrency\n",
    "indexProcessed['MarketcapLocalCurrency'] = indexProcessed['Volume'] * indexProcessed['Close']\n",
    "\n",
    "# parse date    \n",
    "indexProcessed['Date'] = pd.to_datetime(indexProcessed['Date'])\n",
    "\n",
    "# perform window operation - partition by Date, sort by MarketcapUSD, retrerive Index, Date, MarketcapUSD, MarketcapLocalCurrency and max MarketcapUSD\n",
    "indexProcessed['MaxMarketcapUSD'] = indexProcessed.groupby('Date')['MarketcapUSD'].transform('max')\n",
    "\n",
    "# left join with indexData\n",
    "indexProcessed = pd.merge(indexProcessed, indexData, on='Index', how='left')\n",
    "\n",
    "# sort by Date desd\n",
    "indexProcessed = indexProcessed.sort_values(by=['Date'], ascending=False)\n",
    "\n",
    "indexProcessed.to_csv('Datasets/100k/indexProcessed_temp.csv', index=False)\n",
    "\n",
    "end = time.time()\n",
    "\n",
    "print(\"Delta time: \", end - start)\n"
   ]
  }
 ],
 "metadata": {
  "kernelspec": {
   "display_name": "Python 3 (ipykernel)",
   "language": "python",
   "name": "python3"
  },
  "language_info": {
   "codemirror_mode": {
    "name": "ipython",
    "version": 3
   },
   "file_extension": ".py",
   "mimetype": "text/x-python",
   "name": "python",
   "nbconvert_exporter": "python",
   "pygments_lexer": "ipython3",
   "version": "3.10.12"
  }
 },
 "nbformat": 4,
 "nbformat_minor": 2
}
