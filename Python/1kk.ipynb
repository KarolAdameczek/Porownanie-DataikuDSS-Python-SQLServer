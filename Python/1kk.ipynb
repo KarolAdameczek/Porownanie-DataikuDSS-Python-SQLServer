{
 "cells": [
  {
   "cell_type": "code",
   "execution_count": 2,
   "metadata": {},
   "outputs": [],
   "source": [
    "import pandas as pd\n",
    "import time"
   ]
  },
  {
   "cell_type": "markdown",
   "metadata": {},
   "source": [
    "# Dataset 1kk"
   ]
  },
  {
   "cell_type": "code",
   "execution_count": 12,
   "metadata": {},
   "outputs": [
    {
     "name": "stdout",
     "output_type": "stream",
     "text": [
      "Delta time:  3.7442679405212402\n"
     ]
    }
   ],
   "source": [
    "# Filter by number\tOpen > 70\n",
    "start = time.time()\n",
    "\n",
    "sp500_stocks = pd.read_csv('Datasets/1kk/sp500_stocks.csv')\n",
    "\n",
    "sp500_stocks = sp500_stocks[sp500_stocks.Open > 70]\n",
    "\n",
    "sp500_stocks.to_csv('Datasets/1kk/sp500_temp.csv', index=False)\n",
    "\n",
    "end = time.time() \n",
    "\n",
    "print(\"Delta time: \", end - start)"
   ]
  },
  {
   "cell_type": "code",
   "execution_count": 17,
   "metadata": {},
   "outputs": [
    {
     "name": "stdout",
     "output_type": "stream",
     "text": [
      "Delta time:  1.0565924644470215\n"
     ]
    }
   ],
   "source": [
    "# Filter by string\tSymbol = AAPL\n",
    "start = time.time()\n",
    "\n",
    "sp500_stocks = pd.read_csv('Datasets/1kk/sp500_stocks.csv')\n",
    "\n",
    "sp500_stocks = sp500_stocks[sp500_stocks.Symbol == 'AAPL']\n",
    "\n",
    "sp500_stocks.to_csv('Datasets/1kk/sp500_temp.csv', index=False)\n",
    "\n",
    "end = time.time() \n",
    "\n",
    "print(\"Delta time: \", end - start)"
   ]
  },
  {
   "cell_type": "code",
   "execution_count": 25,
   "metadata": {},
   "outputs": [
    {
     "name": "stdout",
     "output_type": "stream",
     "text": [
      "Delta time:  1.05568265914917\n"
     ]
    }
   ],
   "source": [
    "# Distinct\tSymbol\n",
    "start = time.time()\n",
    "\n",
    "sp500_stocks = pd.read_csv('Datasets/1kk/sp500_stocks.csv')\n",
    "\n",
    "sp500_stocks = sp500_stocks['Symbol'].drop_duplicates()\n",
    "\n",
    "sp500_stocks.to_csv('Datasets/1kk/sp500_temp.csv', index=False)\n",
    "\n",
    "end = time.time() \n",
    "\n",
    "print(\"Delta time: \", end - start)"
   ]
  },
  {
   "cell_type": "code",
   "execution_count": 14,
   "metadata": {},
   "outputs": [
    {
     "name": "stdout",
     "output_type": "stream",
     "text": [
      "Delta time:  7.643849849700928\n"
     ]
    }
   ],
   "source": [
    "# Sort\tby Open asc\n",
    "start = time.time()\n",
    "\n",
    "sp500_stocks = pd.read_csv('Datasets/1kk/sp500_stocks.csv')\n",
    "\n",
    "sp500_stocks = sp500_stocks.sort_values(by='Open', ascending=False)\n",
    "\n",
    "sp500_stocks.to_csv('Datasets/1kk/sp500_sorted.csv', index=False)\n",
    "\n",
    "end = time.time() \n",
    "\n",
    "print(\"Delta time: \", end - start)"
   ]
  },
  {
   "cell_type": "code",
   "execution_count": 30,
   "metadata": {},
   "outputs": [
    {
     "name": "stdout",
     "output_type": "stream",
     "text": [
      "Delta time:  15.093489408493042\n"
     ]
    }
   ],
   "source": [
    "# Union\twith Sorted\n",
    "start = time.time()\n",
    "\n",
    "sp500_stocks = pd.read_csv('Datasets/1kk/sp500_stocks.csv')\n",
    "sp500_stocks_sorted = pd.read_csv('Datasets/1kk/sp500_sorted.csv')\n",
    "\n",
    "sp500_stocks =  pd.concat([sp500_stocks, sp500_stocks_sorted])\n",
    "\n",
    "sp500_stocks.to_csv('Datasets/1kk/sp500_temp.csv', index=False)\n",
    "\n",
    "end = time.time() \n",
    "\n",
    "print(\"Delta time: \", end - start)"
   ]
  },
  {
   "cell_type": "code",
   "execution_count": 35,
   "metadata": {},
   "outputs": [
    {
     "name": "stdout",
     "output_type": "stream",
     "text": [
      "Delta time:  1.094360589981079\n"
     ]
    }
   ],
   "source": [
    "# Group By\tby Symbol Volume min max avg sum + count\n",
    "start = time.time()\n",
    "\n",
    "sp500_stocks = pd.read_csv('Datasets/1kk/sp500_stocks.csv')\n",
    "\n",
    "sp500_stocks = sp500_stocks.groupby('Symbol').agg({'Volume': ['min', 'max', 'mean', 'sum', 'count']})\n",
    "sp500_stocks = sp500_stocks.reset_index()\n",
    "\n",
    "sp500_stocks.columns = ['Symbol', 'Volume_min', 'Volume_max', 'Volume_avg', 'Volume_sum', 'Count'] \n",
    "\n",
    "sp500_stocks.to_csv('Datasets/1kk/sp500_temp.csv', index=False)\n",
    "\n",
    "end = time.time() \n",
    "\n",
    "print(\"Delta time: \", end - start)"
   ]
  },
  {
   "cell_type": "code",
   "execution_count": 40,
   "metadata": {},
   "outputs": [
    {
     "name": "stdout",
     "output_type": "stream",
     "text": [
      "Delta time:  35.938045501708984\n"
     ]
    }
   ],
   "source": [
    "# Left Join\twith companies take everything\n",
    "start = time.time()\n",
    "\n",
    "sp500_stocks = pd.read_csv('Datasets/1kk/sp500_stocks.csv')\n",
    "sp500_companies = pd.read_csv('Datasets/1kk/sp500_companies.csv')\n",
    "\n",
    "sp500_stocks = pd.merge(sp500_stocks, sp500_companies, on='Symbol', how='left')\n",
    "\n",
    "sp500_stocks.to_csv('Datasets/1kk/sp500_temp.csv', index=False)\n",
    "\n",
    "end = time.time() \n",
    "\n",
    "print(\"Delta time: \", end - start)"
   ]
  },
  {
   "cell_type": "code",
   "execution_count": 8,
   "metadata": {},
   "outputs": [
    {
     "name": "stdout",
     "output_type": "stream",
     "text": [
      "Delta time:  4.055384874343872\n"
     ]
    }
   ],
   "source": [
    "# Inner Join\twith company list\n",
    "start = time.time()\n",
    "\n",
    "sp500_stocks = pd.read_csv('Datasets/1kk/sp500_stocks.csv')\n",
    "sp500_company_list = pd.read_csv('Datasets/1kk/sp500_company_list.csv')\n",
    "\n",
    "sp500_stocks = pd.merge(sp500_stocks, sp500_company_list, on='Symbol', how='inner')\n",
    "\n",
    "sp500_stocks.to_csv('Datasets/1kk/sp500_temp.csv', index=False)\n",
    "\n",
    "end = time.time() \n",
    "\n",
    "print(\"Delta time: \", end - start)"
   ]
  },
  {
   "cell_type": "code",
   "execution_count": 19,
   "metadata": {},
   "outputs": [
    {
     "name": "stdout",
     "output_type": "stream",
     "text": [
      "Delta time:  11.496999502182007\n"
     ]
    }
   ],
   "source": [
    "# Math\tHigh +-/* Low\n",
    "start = time.time()\n",
    "\n",
    "sp500_stocks = pd.read_csv('Datasets/1kk/sp500_stocks.csv')\n",
    "\n",
    "sp500_stocks['Calculation1'] = sp500_stocks['High'] + sp500_stocks['Low']\n",
    "sp500_stocks['Calculation2'] = sp500_stocks['High'] - sp500_stocks['Low']\n",
    "sp500_stocks['Calculation3'] = sp500_stocks['High'] * sp500_stocks['Low']\n",
    "sp500_stocks['Calculation4'] = sp500_stocks['High'] / sp500_stocks['Low'] \n",
    "\n",
    "sp500_stocks.to_csv('Datasets/1kk/sp500_temp.csv', index=False)\n",
    "\n",
    "end = time.time() \n",
    "\n",
    "print(\"Delta time: \", end - start)"
   ]
  },
  {
   "cell_type": "markdown",
   "metadata": {},
   "source": [
    "# Pineline"
   ]
  },
  {
   "cell_type": "code",
   "execution_count": 23,
   "metadata": {},
   "outputs": [
    {
     "name": "stdout",
     "output_type": "stream",
     "text": [
      "Delta time:  1.4341228008270264\n"
     ]
    }
   ],
   "source": [
    "start = time.time()\n",
    "\n",
    "sp500_stocks = pd.read_csv('Datasets/1kk/sp500_stocks.csv')\n",
    "sp500_companies = pd.read_csv('Datasets/1kk/sp500_companies.csv')\n",
    "sp500_company_list = pd.read_csv('Datasets/1kk/sp500_company_list.csv')\n",
    "\n",
    "# parse date \n",
    "sp500_stocks['Date'] = pd.to_datetime(sp500_stocks['Date'])\n",
    "\n",
    "# Filter by date\tDate > 2015-01-01   \n",
    "sp500_stocks = sp500_stocks[sp500_stocks.Date > '2015-01-01']\n",
    "\n",
    "# OpenCloseDiff = Open - Close\n",
    "sp500_stocks['OpenCloseDiff'] = sp500_stocks['Open'] - sp500_stocks['Close']\n",
    "\n",
    "# left join with companies, take Exchange, Sector, Industry, Country\n",
    "sp500_stocks = pd.merge(sp500_stocks, sp500_companies[['Symbol', 'Exchange', 'Sector', 'Industry', 'Country']], on='Symbol', how='left')\n",
    "\n",
    "# group by country, aggregate high max, low min, openclosediff max\n",
    "sp500_stocks_country = sp500_stocks.groupby('Country').agg({'High': 'max', 'Low': 'min', 'OpenCloseDiff': 'max'})\n",
    "sp500_stocks_country['AggregationType'] = 'Country'\n",
    "\n",
    "# group by symbol, aggregate high max, low min, openclosediff max\n",
    "sp500_stocks_symbol = sp500_stocks.groupby('Symbol').agg({'High': 'max', 'Low': 'min', 'OpenCloseDiff': 'max'})\n",
    "sp500_stocks_symbol['AggregationType'] = 'Symbol'\n",
    "\n",
    "# group by exchange, aggregate high max, low min, openclosediff max\n",
    "sp500_stocks_exchange = sp500_stocks.groupby('Exchange').agg({'High': 'max', 'Low': 'min', 'OpenCloseDiff': 'max'})\n",
    "sp500_stocks_exchange['AggregationType'] = 'Exchange' \n",
    "\n",
    "# group by sector, aggregate high max, low min, openclosediff max\n",
    "sp500_stocks_sector = sp500_stocks.groupby('Sector').agg({'High': 'max', 'Low': 'min', 'OpenCloseDiff': 'max'}) \n",
    "sp500_stocks_sector['AggregationType'] = 'Sector'\n",
    "\n",
    "# group by industry, aggregate high max, low min, openclosediff max\n",
    "sp500_stocks_industry = sp500_stocks.groupby('Industry').agg({'High': 'max', 'Low': 'min', 'OpenCloseDiff': 'max'}) \n",
    "sp500_stocks_industry['AggregationType'] = 'Industry'\n",
    "\n",
    "# union grouped\n",
    "sp500_stocks = pd.concat([sp500_stocks_country, sp500_stocks_symbol, sp500_stocks_exchange, sp500_stocks_sector, sp500_stocks_industry])\n",
    "sp500_stocks = sp500_stocks.reset_index()\n",
    "sp500_stocks.columns = ['Name', 'High_max', 'Low_min', 'OpenCloseDiff_max', 'AggregationType']\n",
    "sp500_stocks.head()\n",
    "\n",
    "# sort asc by aggregationtype, asc by name\n",
    "sp500_stocks = sp500_stocks.sort_values(by=['AggregationType', 'Name'], ascending=[True, True])\n",
    "\n",
    "sp500_stocks.to_csv('Datasets/1kk/sp500_temp.csv', index=False)\n",
    "\n",
    "end = time.time()\n",
    "\n",
    "print(\"Delta time: \", end - start)\n",
    "\n"
   ]
  }
 ],
 "metadata": {
  "kernelspec": {
   "display_name": "Python 3 (ipykernel)",
   "language": "python",
   "name": "python3"
  }
 },
 "nbformat": 4,
 "nbformat_minor": 2
}
