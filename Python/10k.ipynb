{
 "cells": [
  {
   "cell_type": "markdown",
   "metadata": {},
   "source": [
    "# Dataset 10k"
   ]
  },
  {
   "cell_type": "code",
   "execution_count": 1,
   "metadata": {},
   "outputs": [],
   "source": [
    "import pandas as pd\n",
    "import time"
   ]
  },
  {
   "cell_type": "code",
   "execution_count": 67,
   "metadata": {},
   "outputs": [
    {
     "name": "stdout",
     "output_type": "stream",
     "text": [
      "Delta time:  0.021672487258911133\n"
     ]
    }
   ],
   "source": [
    "# Filter Country = \"USA\"\n",
    "\n",
    "start = time.time()\n",
    "\n",
    "# read cleared data \n",
    "companiesmarketcap = pd.read_csv('Datasets/10k/companiesmarketcap_cleaned.csv')\n",
    "\n",
    "companiesmarketcap = companiesmarketcap[companiesmarketcap.Country == \"USA\"]\n",
    "\n",
    "companiesmarketcap.to_csv('Datasets/10k/companiesmarketcap_temp.csv', index=False)\n",
    "\n",
    "end = time.time() \n",
    "\n",
    "print(\"Delta time: \", end - start)"
   ]
  },
  {
   "cell_type": "code",
   "execution_count": 52,
   "metadata": {},
   "outputs": [
    {
     "name": "stdout",
     "output_type": "stream",
     "text": [
      "Delta time:  0.025514602661132812\n"
     ]
    }
   ],
   "source": [
    "# Filter Stock Price > 20\n",
    "start = time.time()\n",
    "\n",
    "# read cleared data \n",
    "companiesmarketcap = pd.read_csv('Datasets/10k/companiesmarketcap_cleaned.csv')\n",
    "\n",
    "companiesmarketcap = companiesmarketcap[companiesmarketcap[\"Stock Price\"]  > 20]\n",
    "\n",
    "companiesmarketcap.to_csv('Datasets/10k/companiesmarketcap_temp.csv', index=False)\n",
    "\n",
    "end = time.time() \n",
    "\n",
    "print(\"Delta time: \", end - start)"
   ]
  },
  {
   "cell_type": "code",
   "execution_count": 108,
   "metadata": {},
   "outputs": [
    {
     "name": "stdout",
     "output_type": "stream",
     "text": [
      "Delta time:  0.04280281066894531\n"
     ]
    }
   ],
   "source": [
    "# Sort by stock price ascending\n",
    "start = time.time()\n",
    "\n",
    "# read cleared data \n",
    "companiesmarketcap = pd.read_csv('Datasets/10k/companiesmarketcap_cleaned.csv')\n",
    "companiesmarketcap = companiesmarketcap.sort_values(by=['Stock Price'], ascending=True)\n",
    "\n",
    "companiesmarketcap.to_csv('Datasets/10k/companiesmarketcap_temp_sorted.csv', index=False)\n",
    "\n",
    "end = time.time() \n",
    "\n",
    "print(\"Delta time: \", end - start)"
   ]
  },
  {
   "cell_type": "code",
   "execution_count": 79,
   "metadata": {},
   "outputs": [
    {
     "name": "stdout",
     "output_type": "stream",
     "text": [
      "Delta time:  0.05363726615905762\n"
     ]
    }
   ],
   "source": [
    "# Union with sorted dataset\n",
    "start = time.time()\n",
    "\n",
    "# read cleared data \n",
    "companiesmarketcap = pd.read_csv('Datasets/10k/companiesmarketcap_cleaned.csv')\n",
    "companiesmarketcap_temp_sorted = pd.read_csv('Datasets/10k/companiesmarketcap_temp_sorted.csv')\n",
    "\n",
    "companiesmarketcap = pd.concat([companiesmarketcap, companiesmarketcap_temp_sorted])\n",
    "\n",
    "companiesmarketcap.to_csv('Datasets/10k/companiesmarketcap_temp.csv', index=False)\n",
    "\n",
    "end = time.time() \n",
    "\n",
    "print(\"Delta time: \", end - start)"
   ]
  },
  {
   "cell_type": "code",
   "execution_count": 112,
   "metadata": {},
   "outputs": [
    {
     "name": "stdout",
     "output_type": "stream",
     "text": [
      "Delta time:  0.04948925971984863\n"
     ]
    }
   ],
   "source": [
    "# calculate Marketcap +-/* Stock Price\n",
    "\n",
    "start = time.time()\n",
    "\n",
    "companiesmarketcap = pd.read_csv('Datasets/10k/companiesmarketcap_cleaned.csv')\n",
    "companiesmarketcap['Calculation1'] = companiesmarketcap['Marketcap'] + companiesmarketcap['Stock Price']\n",
    "companiesmarketcap['Calculation2'] = companiesmarketcap['Marketcap'] - companiesmarketcap['Stock Price']\n",
    "companiesmarketcap['Calculation3'] = companiesmarketcap['Marketcap'] * companiesmarketcap['Stock Price']\n",
    "companiesmarketcap['Calculation4'] = companiesmarketcap['Marketcap'] / companiesmarketcap['Stock Price']\n",
    "\n",
    "companiesmarketcap.to_csv('Datasets/10k/companiesmarketcap_temp.csv', index=False)\n",
    "\n",
    "end = time.time() \n",
    "\n",
    "print(\"Delta time: \", end - start)"
   ]
  },
  {
   "cell_type": "code",
   "execution_count": 72,
   "metadata": {},
   "outputs": [
    {
     "name": "stdout",
     "output_type": "stream",
     "text": [
      "Delta time:  0.01536870002746582\n"
     ]
    }
   ],
   "source": [
    "# Distinct Country\n",
    "start = time.time()\n",
    "\n",
    "# read cleared data \n",
    "companiesmarketcap = pd.read_csv('Datasets/10k/companiesmarketcap_cleaned.csv')\n",
    "companiesmarketcap = companiesmarketcap['Country'].drop_duplicates()\n",
    "\n",
    "companiesmarketcap.to_csv('Datasets/10k/companiesmarketcap_temp.csv', index=False)\n",
    "\n",
    "end = time.time() \n",
    "\n",
    "print(\"Delta time: \", end - start)"
   ]
  },
  {
   "cell_type": "code",
   "execution_count": 86,
   "metadata": {},
   "outputs": [
    {
     "name": "stdout",
     "output_type": "stream",
     "text": [
      "Delta time:  0.016008377075195312\n"
     ]
    }
   ],
   "source": [
    "# Group by Country aggregations count, marketcap min max avg sum\n",
    "start = time.time()\n",
    "\n",
    "# read cleared data \n",
    "companiesmarketcap = pd.read_csv('Datasets/10k/companiesmarketcap_cleaned.csv')\n",
    "companiesmarketcap = companiesmarketcap.groupby('Country', as_index=False).agg({'Marketcap': ['min', 'max', 'mean', 'sum', 'count']})\n",
    "# rename columns\n",
    "companiesmarketcap.columns = ['Country', 'Marketcap_min', 'Marketcap_max', 'Marketcap_avg', 'Marketcap_sum', 'Count']\n",
    "companiesmarketcap.to_csv('Datasets/10k/companiesmarketcap_temp.csv', index=False)\n",
    "\n",
    "end = time.time() \n",
    "\n",
    "print(\"Delta time: \", end - start)"
   ]
  },
  {
   "cell_type": "code",
   "execution_count": 103,
   "metadata": {},
   "outputs": [
    {
     "name": "stdout",
     "output_type": "stream",
     "text": [
      "Delta time:  0.024330615997314453\n"
     ]
    }
   ],
   "source": [
    "# Inner join with country list dataset\n",
    "start = time.time()\n",
    "\n",
    "companiesmarketcap_inner_join_list = pd.read_csv('Datasets/10k/CountryList.csv')\n",
    "companiesmarketcap = pd.read_csv('Datasets/10k/companiesmarketcap_cleaned.csv')\n",
    "companiesmarketcap = pd.merge(companiesmarketcap, companiesmarketcap_inner_join_list, on='Country', how='inner')\n",
    "\n",
    "companiesmarketcap.to_csv('Datasets/10k/companiesmarketcap_temp.csv', index=False)\n",
    "\n",
    "end = time.time() \n",
    "\n",
    "print(\"Delta time: \", end - start)"
   ]
  },
  {
   "cell_type": "code",
   "execution_count": 99,
   "metadata": {},
   "outputs": [
    {
     "name": "stdout",
     "output_type": "stream",
     "text": [
      "Delta time:  0.0337214469909668\n"
     ]
    }
   ],
   "source": [
    "# Left join continent\n",
    "start = time.time()\n",
    "\n",
    "companiesmarketcap_continents = pd.read_csv('Datasets/10k/Countries_Continents.csv')\n",
    "companiesmarketcap = pd.read_csv('Datasets/10k/companiesmarketcap_cleaned.csv')\n",
    "companiesmarketcap = pd.merge(companiesmarketcap, companiesmarketcap_continents, on='Country', how='left')\n",
    "\n",
    "companiesmarketcap.to_csv('Datasets/10k/companiesmarketcap_temp.csv', index=False)\n",
    "\n",
    "end = time.time() \n",
    "\n",
    "print(\"Delta time: \", end - start)"
   ]
  },
  {
   "cell_type": "markdown",
   "metadata": {},
   "source": [
    "# Pipeline"
   ]
  },
  {
   "cell_type": "code",
   "execution_count": 125,
   "metadata": {},
   "outputs": [
    {
     "name": "stdout",
     "output_type": "stream",
     "text": [
      "Delta time:  0.07419490814208984\n"
     ]
    }
   ],
   "source": [
    "start = time.time()\n",
    "\n",
    "companiesmarketcap = pd.read_csv('Datasets/10k/companiesmarketcap.csv')\n",
    "companiesmarketcap = companiesmarketcap.dropna(subset=['Country', 'Marketcap', 'Stock Price'])  \n",
    "companiesmarketcap[['Marketcap1', 'Marketcap2']] = companiesmarketcap['Marketcap'].str.split(' ',expand=True)\n",
    "companiesmarketcap['Marketcap1'] = companiesmarketcap['Marketcap1'].str[1:]\n",
    "companiesmarketcap['Marketcap'] = companiesmarketcap['Marketcap1'].astype(float) * companiesmarketcap['Marketcap2'].map({'T': 1000000000000.0, 'B': 1000000000.0, 'M': 1000000.0})\n",
    "companiesmarketcap['Stock Price'] = companiesmarketcap['Stock Price'].str.replace(',', '').str[1:].astype(float)\n",
    "companiesmarketcap = companiesmarketcap.drop(columns=['Marketcap1', 'Marketcap2', 'Origin Flag'])\n",
    "\n",
    "# replace \\n with space in Company Names\n",
    "companiesmarketcap['Company Names'] = companiesmarketcap['Company Names'].str.replace('\\n', ' ')\n",
    "\n",
    "# filter out marketcap or stock price equal to 0\n",
    "companiesmarketcap = companiesmarketcap[(companiesmarketcap['Marketcap'] > 0) & (companiesmarketcap['Stock Price'] > 0)]\n",
    "\n",
    "# group by country and calculate marketcap max avg sum \n",
    "companiesmarketcap_grouped = companiesmarketcap.groupby('Country').agg({'Marketcap': ['max', 'mean', 'sum']}).reset_index()\n",
    "companiesmarketcap_grouped.columns = ['Country', 'Country_Marketcap_max', 'Country_Marketcap_avg', 'Country_Marketcap_sum']\n",
    "\n",
    "# left join grouped data with original data on country and left join with continent\n",
    "companiesmarketcap = pd.merge(companiesmarketcap, companiesmarketcap_grouped, on='Country', how='left')\n",
    "companiesmarketcap = pd.merge(companiesmarketcap, companiesmarketcap_continents, on='Country', how='left')\n",
    "\n",
    "# calculate MarketcapVsCouuntrySum, MarketcapVsCouuntryBiggest, MarketcapVsCouuntryAverage\n",
    "companiesmarketcap['MarketcapVsCouuntrySum'] = companiesmarketcap['Marketcap'] / companiesmarketcap['Country_Marketcap_sum']\n",
    "companiesmarketcap['MarketcapVsCouuntryBiggest'] = companiesmarketcap['Marketcap'] / companiesmarketcap['Country_Marketcap_max']\n",
    "companiesmarketcap['MarketcapVsCouuntryAverage'] = companiesmarketcap['Marketcap'] / companiesmarketcap['Country_Marketcap_avg']\n",
    "\n",
    "# sort by continent asc, country asc, marketcap desc\n",
    "companiesmarketcap = companiesmarketcap.sort_values(by=['Continent', 'Country', 'Marketcap'], ascending=[True, True, False])\n",
    "\n",
    "companiesmarketcap.to_csv('Datasets/10k/companiesmarketcap_temp.csv', index=False)\n",
    "\n",
    "end = time.time()\n",
    "\n",
    "print(\"Delta time: \", end - start)"
   ]
  },
  {
   "cell_type": "code",
   "execution_count": null,
   "metadata": {},
   "outputs": [],
   "source": [
    "start = time.time()\n",
    "\n",
    "companiesmarketcap = pd.read_csv('Datasets/10k/companiesmarketcap.csv')\n",
    "\n",
    "# Remove rows where Country is empty\n",
    "companiesmarketcap = companiesmarketcap.dropna(subset=['Country', 'Marketcap', 'Stock Price'])  \n",
    "\n",
    "# Remove rows where Marketcap or Stock Price is \"N/A\"\n",
    "companiesmarketcap = companiesmarketcap.query('Marketcap != \"N/A\" and \"Stock Price\" != \"N/A\"')    #[companiesmarketcap.Marketcap != \"N/A\" and companiesmarketcap.StockPrice != \"N/A\"]\n",
    "\n",
    "# Split Marketcap by space delimiger into\n",
    "companiesmarketcap[['Marketcap0', 'Marketcap1']] = companiesmarketcap['Marketcap'].str.split(' ',expand=True)\n",
    "\n",
    "# Remove first character of Marketcap\n",
    "companiesmarketcap['Marketcap2'] = companiesmarketcap['Marketcap1'].str[1:]\n",
    "\n",
    "# Calculate Marketcap based on formula and save as double\n",
    "# Marketcap2 * if(Marketcap1 == \"T\", 1000000000000.0,\n",
    "# if(Marketcap1 == \"B\", 1000000000.0,\n",
    "# if(Marketcap1 == \"M\", 1000000.0, 0)))\n",
    " \n",
    "\n",
    "\n",
    "companiesmarketcap['Marketcap'] = companiesmarketcap['Marketcap2'].astype(float) * companiesmarketcap['Marketcap1'].map({'T': 1000000000000.0, 'B': 1000000000.0, 'M': 1000000.0})\n",
    "\n",
    "# Remove comma in stock price \n",
    "# Remove first character of stock price\n",
    "companiesmarketcap['Stock Price'] = companiesmarketcap['Stock Price'].str.replace(',', '').str[1:].astype(float)\n",
    "\n",
    "# Remove columns used for calculations\n",
    "companiesmarketcap = companiesmarketcap.drop(columns=['Marketcap0', 'Marketcap1', 'Marketcap2'])\n",
    "\n",
    "# Save to new csv\n",
    "companiesmarketcap.to_csv('Datasets/10k/companiesmarketcap_cleaned.csv', index=False)\n",
    "\n",
    "companiesmarketcap.head(20)\n",
    " \n",
    "end = time.time() \n",
    "\n",
    "print(\"Delta time: \", end - start)"
   ]
  },
  {
   "cell_type": "code",
   "execution_count": null,
   "metadata": {},
   "outputs": [],
   "source": [
    "# Pipeline \n",
    "start = time.time()\n",
    "\n",
    "# Same code as for preparation\n",
    "companiesmarketcap = pd.read_csv('Datasets/10k/companiesmarketcap.csv')\n",
    "companiesmarketcap = companiesmarketcap.dropna(subset=['Country', 'Marketcap', 'Stock Price'])  \n",
    "companiesmarketcap = companiesmarketcap.query('Marketcap != \"N/A\" and \"Stock Price\" != \"N/A\"')    #[companiesmarketcap.Marketcap != \"N/A\" and companiesmarketcap.StockPrice != \"N/A\"]\n",
    "companiesmarketcap[['Marketcap1', 'Marketcap2']] = companiesmarketcap['Marketcap'].str.split(' ',expand=True)\n",
    "companiesmarketcap['Marketcap1'] = companiesmarketcap['Marketcap1'].str[1:]\n",
    "companiesmarketcap['Marketcap'] = companiesmarketcap['Marketcap1'].astype(float) * companiesmarketcap['Marketcap2'].map({'T': 1000000000000.0, 'B': 1000000000.0, 'M': 1000000.0})\n",
    "companiesmarketcap['Stock Price'] = companiesmarketcap['Stock Price'].str.replace(',', '').str[1:].astype(float)\n",
    "companiesmarketcap = companiesmarketcap.drop(columns=['Marketcap1', 'Marketcap2'])\n",
    "# remove \\n from Company Names\n",
    "companiesmarketcap['Company Names'] = companiesmarketcap['Company Names'].str.replace('\\n', ' ')\n",
    "\n",
    "\n",
    "# Group by Country aggregations marketcap min max avg, stock price min max avg\n",
    "companiesmarketcap_grouped = companiesmarketcap.groupby('Country', as_index=False).agg({'Marketcap': ['min', 'max', 'mean'], 'Stock Price': ['min', 'max', 'mean']})\n",
    "companiesmarketcap_grouped.columns = ['Country', 'Marketcap_min', 'Marketcap_max', 'Marketcap_mean', 'Stock Price_min', 'Stock Price_max', 'Stock Price_mean']\n",
    "\n",
    "# Left join with grouped by country and continent dataset\n",
    "companiesmarketcap_continents = pd.read_csv('Datasets/10k/Countries_Continents.csv')\n",
    "companiesmarketcap = pd.merge(companiesmarketcap, companiesmarketcap_grouped, on='Country', how='left')\n",
    "companiesmarketcap = pd.merge(companiesmarketcap, companiesmarketcap_continents, on='Country', how='left') \n",
    "\n",
    "# Calculate Stock Price Min Max percentage \n",
    "# (val(\"Stock Price_max\") - val(\"Stock Price_min\")) / val(\"Stock Price_min\") * 100\n",
    "companiesmarketcap['Stock Price Min Max Percentage'] = (companiesmarketcap['Stock Price_max'] - companiesmarketcap['Stock Price_min']) / companiesmarketcap['Stock Price_min'] * 100\n",
    "\n",
    "# Calculate Stock Price Min Curr percentage\n",
    "# (val(\"Stock Price\") - val(\"Stock Price_min\")) / val(\"Stock Price_min\") * 100\n",
    "companiesmarketcap['Stock Price Min Curr Percentage'] = (companiesmarketcap['Stock Price'] - companiesmarketcap['Stock Price_min']) / companiesmarketcap['Stock Price_min'] * 100\n",
    "\n",
    "# Marketcap Diff Max to Current\n",
    "# Marketcap_max - Marketcap\n",
    "companiesmarketcap['Marketcap Diff Max to Current'] = companiesmarketcap['Marketcap_max'] - companiesmarketcap['Marketcap']\n",
    "\n",
    "# Sort descending by Market cap\n",
    "companiesmarketcap = companiesmarketcap.sort_values(by=['Marketcap'], ascending=False)\n",
    "\n",
    "companiesmarketcap.to_csv('Datasets/10k/companiesmarketcap_temp.csv', index=False)\n",
    "\n",
    "end = time.time() \n",
    "\n",
    "print(\"Delta time: \", end - start)"
   ]
  }
 ],
 "metadata": {
  "kernelspec": {
   "display_name": "Python 3 (ipykernel)",
   "language": "python",
   "name": "python3"
  }
 },
 "nbformat": 4,
 "nbformat_minor": 2
}
